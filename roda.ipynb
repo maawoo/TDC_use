{
 "cells": [
  {
   "cell_type": "code",
   "execution_count": null,
   "id": "b77b9979-d50f-4c24-834f-3e1a4a40eaf3",
   "metadata": {},
   "outputs": [],
   "source": [
    "import datacube\n",
    "import xarray as xr\n",
    "import rioxarray\n",
    "import dask\n",
    "from dask.distributed import performance_report\n",
    "from dask.distributed import Client\n",
    "\n",
    "from datacube.utils import masking\n",
    "import utils.bandindices as bandindices\n",
    "from utils.geometry import geojson_x_y\n",
    "\n",
    "%matplotlib inline\n",
    "import hvplot.xarray\n",
    "\n",
    "## Connect to ODC\n",
    "dc = datacube.Datacube()\n",
    "\n",
    "## Start local Dask cluster\n",
    "## https://docs.dask.org/en/latest/setup/single-distributed.html#localcluster\n",
    "n_workers = 1\n",
    "n_threads = 12\n",
    "client = Client(processes=False, \n",
    "                n_workers=n_workers, \n",
    "                threads_per_worker=n_threads)"
   ]
  },
  {
   "cell_type": "code",
   "execution_count": null,
   "id": "b7a77c16-da8b-4f3b-8cb8-2f0d3a76d6f6",
   "metadata": {},
   "outputs": [],
   "source": [
    "## Spatial subset based on GeoJSON bounding box\n",
    "aoi = geojson_x_y(\"./misc/roda.geojson\")\n",
    "x = aoi[0]\n",
    "y = aoi[1]\n",
    "\n",
    "\"\"\"\n",
    "ds_s1_asc = dc.load(product=\"s1_ARD_asc\",\n",
    "                     x=x, y=y,\n",
    "                     dask_chunks={'time':-1, 'y':-1, 'x':-1})\n",
    "\n",
    "ds_s1_desc = dc.load(product=\"s1_ARD_desc\",\n",
    "                     x=x, y=y,\n",
    "                     dask_chunks={'time':-1, 'y':-1, 'x':-1})\n",
    "\"\"\"\n",
    "   \n",
    "ds_s2 = dc.load(product=\"s2_ARD\",\n",
    "                x=x, y=y,\n",
    "                dask_chunks={'time':-1, 'y':1100, 'x':1000})\n",
    "\n",
    "ds_l8 = dc.load(product=\"l8_ARD\",\n",
    "                x=x, y=y,\n",
    "                resolution=(-10, 10),  # resample to get same array size as s2\n",
    "                dask_chunks={'time':-1, 'y':1100, 'x':1000})\n"
   ]
  },
  {
   "cell_type": "markdown",
   "id": "1d6a0088-a6e9-412a-8ba4-36a18e9bf9e6",
   "metadata": {},
   "source": [
    "---"
   ]
  },
  {
   "cell_type": "code",
   "execution_count": null,
   "id": "d1940595-1935-4907-94d8-1e75c26af691",
   "metadata": {},
   "outputs": [],
   "source": [
    "## Temporal subset for summer months (June, July, August)\n",
    "## More info on this kind of indexing: \n",
    "## https://xarray.pydata.org/en/stable/time-series.html#datetime-components\n",
    "## https://xarray.pydata.org/en/stable/indexing.html#masking-with-where\n",
    "s2 = ds_s2.where(ds_s2['time.season'] == 'JJA', drop=True)\n",
    "l8 = ds_l8.where(ds_l8['time.season'] == 'JJA', drop=True)\n",
    "\n",
    "## Calculate indices and drop anything else\n",
    "s2 = bandindices.optical(s2, index=[\"kNDVI\", \"NDVI\"], inplace=True, drop=True, normalise=False)\n",
    "l8 = bandindices.optical(l8, index=[\"kNDVI\", \"NDVI\"], inplace=True, drop=True, normalise=False)"
   ]
  },
  {
   "cell_type": "code",
   "execution_count": null,
   "id": "ecfda429-1a50-40da-8fc4-6d56af33d2f2",
   "metadata": {},
   "outputs": [],
   "source": [
    "## Remove anything outside NDVI range and load into memory via .compute()\n",
    "s2_ndvi = s2.NDVI.where(((s2.NDVI > 0) & (s2.NDVI <= 1)), drop=True).compute()\n",
    "l8_ndvi = l8.NDVI.where(((l8.NDVI > 0) & (l8.NDVI <= 1)), drop=True).compute()"
   ]
  },
  {
   "cell_type": "code",
   "execution_count": null,
   "id": "fd33b0ca-ec92-404a-9d9c-3d76a1e71c36",
   "metadata": {},
   "outputs": [],
   "source": [
    "## Create combined dataset\n",
    "ndvi = s2_ndvi.combine_first(l8_ndvi)\n",
    "\n",
    "## Median per year\n",
    "ndvi_mpy = ndvi.groupby('time.year').median(dim='time')"
   ]
  },
  {
   "cell_type": "code",
   "execution_count": null,
   "id": "450ea1fd-7d45-46c5-b9d5-b997763d8923",
   "metadata": {},
   "outputs": [],
   "source": [
    "ndvi_2017 = ndvi_mpy[0,:,:]\n",
    "ndvi_2018 = ndvi_mpy[1,:,:]\n",
    "ndvi_2019 = ndvi_mpy[2,:,:]\n",
    "\n",
    "diff_2018 = ndvi_2017 - ndvi_2018\n",
    "diff_2019 = ndvi_2017 - ndvi_2019"
   ]
  },
  {
   "cell_type": "markdown",
   "id": "5209f08e-edaa-431f-ae4d-6c14e91b3acd",
   "metadata": {},
   "source": [
    "---"
   ]
  },
  {
   "cell_type": "code",
   "execution_count": null,
   "id": "77fdf408-8a0d-4362-8e67-409bb422a3bd",
   "metadata": {},
   "outputs": [],
   "source": [
    "ndvi_2017.hvplot(height=500, width=900, cmap=\"viridis\")"
   ]
  },
  {
   "cell_type": "code",
   "execution_count": null,
   "id": "790e5835-d530-444a-8bcf-ee8fe98c650f",
   "metadata": {},
   "outputs": [],
   "source": [
    "ndvi_2018.hvplot(height=500, width=900, cmap=\"viridis\")"
   ]
  },
  {
   "cell_type": "code",
   "execution_count": null,
   "id": "5866fbb6-e784-4172-afd6-4675f8aaa973",
   "metadata": {},
   "outputs": [],
   "source": [
    "ndvi_2019.hvplot(height=500, width=900, cmap=\"viridis\")"
   ]
  },
  {
   "cell_type": "code",
   "execution_count": null,
   "id": "ea73b36c-5517-4216-b6bf-d47652ec5df0",
   "metadata": {},
   "outputs": [],
   "source": [
    "diff_2018.hvplot(height=500, width=900, cmap=\"RdBu\")"
   ]
  },
  {
   "cell_type": "code",
   "execution_count": null,
   "id": "be846e66-9892-4318-abc5-29d6367cefb2",
   "metadata": {},
   "outputs": [],
   "source": [
    "diff_2019.hvplot(height=500, width=900, cmap=\"RdBu\")"
   ]
  },
  {
   "cell_type": "markdown",
   "id": "5240ff84-08d1-43ee-9003-d24e998dcd07",
   "metadata": {},
   "source": [
    "---"
   ]
  },
  {
   "cell_type": "code",
   "execution_count": null,
   "id": "bdcf714d-a278-40c8-9aa4-75a33dfc94fa",
   "metadata": {},
   "outputs": [],
   "source": [
    "## bad\n",
    "ndvi.sel(x=-586000, y=-437260, method='nearest').hvplot.scatter()"
   ]
  },
  {
   "cell_type": "code",
   "execution_count": null,
   "id": "600e297a-d3f7-4706-a297-06db65d147f5",
   "metadata": {},
   "outputs": [],
   "source": [
    "## good\n",
    "ndvi.sel(x=-584580, y=-436800, method='nearest').hvplot.scatter()"
   ]
  }
 ],
 "metadata": {
  "kernelspec": {
   "display_name": "Python 3",
   "language": "python",
   "name": "python3"
  },
  "language_info": {
   "codemirror_mode": {
    "name": "ipython",
    "version": 3
   },
   "file_extension": ".py",
   "mimetype": "text/x-python",
   "name": "python",
   "nbconvert_exporter": "python",
   "pygments_lexer": "ipython3",
   "version": "3.7.10"
  }
 },
 "nbformat": 4,
 "nbformat_minor": 5
}
