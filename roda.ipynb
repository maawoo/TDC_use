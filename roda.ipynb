{
 "cells": [
  {
   "cell_type": "code",
   "execution_count": null,
   "id": "b77b9979-d50f-4c24-834f-3e1a4a40eaf3",
   "metadata": {},
   "outputs": [],
   "source": [
    "import datacube\n",
    "import xarray as xr\n",
    "import rioxarray\n",
    "import dask\n",
    "from dask.distributed import performance_report\n",
    "from dask.distributed import Client\n",
    "\n",
    "from datacube.utils import masking\n",
    "import utils.bandindices as bandindices\n",
    "from utils.geometry import geojson_x_y\n",
    "\n",
    "%matplotlib inline\n",
    "import hvplot.xarray\n",
    "\n",
    "## Connect to ODC\n",
    "dc = datacube.Datacube()\n",
    "\n",
    "## Start local Dask cluster\n",
    "## https://docs.dask.org/en/latest/setup/single-distributed.html#localcluster\n",
    "n_workers = 1\n",
    "n_threads = 24\n",
    "client = Client(processes=False, \n",
    "                n_workers=n_workers, \n",
    "                threads_per_worker=n_threads)"
   ]
  },
  {
   "cell_type": "code",
   "execution_count": null,
   "id": "b7a77c16-da8b-4f3b-8cb8-2f0d3a76d6f6",
   "metadata": {},
   "outputs": [],
   "source": [
    "## Spatial subset based on GeoJSON bounding box\n",
    "aoi = geojson_x_y(\"./misc/roda.geojson\")\n",
    "x = aoi[0]\n",
    "y = aoi[1]\n",
    "\n",
    "## (Lazy) loading of all datasets\n",
    "## No chunking as AOI is fairly small and enough RAM is available \n",
    "ds_s1_asc = dc.load(product=\"s1_ARD_asc\",\n",
    "                     x=x, y=y,\n",
    "                     dask_chunks={'time':-1, 'y':-1, 'x':-1})\n",
    "\n",
    "ds_s1_desc = dc.load(product=\"s1_ARD_desc\",\n",
    "                     x=x, y=y,\n",
    "                     dask_chunks={'time':-1, 'y':-1, 'x':-1})\n",
    "\n",
    "ds_s2 = dc.load(product=\"s2_ARD\",\n",
    "                measurements=[\"red\", \"nir\", \"pixel_qa\"],\n",
    "                x=x, y=y,\n",
    "                dask_chunks={'time':-1, 'y':-1, 'x':-1})\n",
    "\n",
    "ds_l8 = dc.load(product=\"l8_ARD\",\n",
    "                measurements=[\"red\", \"nir\", \"pixel_qa\"],\n",
    "                x=x, y=y,\n",
    "                resolution=(-10, 10),  # resample to get same array size as s2\n",
    "                dask_chunks={'time':-1, 'y':-1, 'x':-1})\n"
   ]
  },
  {
   "cell_type": "markdown",
   "id": "ce687082-17ce-42d0-aec6-d148bd7bc174",
   "metadata": {},
   "source": [
    "## Landsat 8 & Sentinel-2"
   ]
  },
  {
   "cell_type": "code",
   "execution_count": null,
   "id": "e35170b3-7312-41dd-9694-748649b291aa",
   "metadata": {},
   "outputs": [],
   "source": [
    "## Create cloud/cloud-shadow masks from QAI band\n",
    "## 'False' in mask = cloud/cloud-shadow/nodata = nan in masked datasets\n",
    "flags = {'valid_data': 'valid',\n",
    "        'cloud_state': 'clear',\n",
    "        'cloud_shadow_flag': False}\n",
    "mask_s2 = masking.make_mask(ds_s2.pixel_qa, **flags)\n",
    "mask_l8 = masking.make_mask(ds_l8.pixel_qa, **flags)\n",
    "\n",
    "## Apply masks to datasets\n",
    "s2 = ds_s2.where(mask_s2) \n",
    "l8 = ds_l8.where(mask_l8) \n",
    "\n",
    "## Add indices to datasets \n",
    "bandindices.optical(s2, index=[\"NDVI\", \"kNDVI\"], inplace=True, drop=False, normalise=False)\n",
    "bandindices.optical(l8, index=[\"NDVI\", \"kNDVI\"], inplace=True, drop=False, normalise=False)\n",
    "\n",
    "# This semicolon is just suppressing the cell output :)\n",
    ";"
   ]
  },
  {
   "cell_type": "code",
   "execution_count": null,
   "id": "6a5b5757-e28d-4840-a41a-a8cf3332f2d7",
   "metadata": {},
   "outputs": [],
   "source": [
    "## Combine index variable of both datasets (S2 & resampled L8) and calculate median aggregates for each summer period and year  \n",
    "## mpspy = median per summer/season per year\n",
    "\n",
    "index = \"ndvi\" # Only used later on to automatically be included in output filenames\n",
    "\n",
    "with dask.config.set(**{'array.slicing.split_large_chunks': False}):  # silence warning message about large chunks\n",
    "    \n",
    "    ind = s2.NDVI.combine_first(l8.NDVI)\n",
    "    ind_spy = ind.where( ((ind['time.season'] == 'JJA') & (ind >= 0) & (ind <= 1)) )\n",
    "    \n",
    "    ## .chunk() to rechunk to more reasonable chunks than dask is applying automatically & compute into memory for faster plotting\n",
    "    mpspy = ind_spy.groupby('time.year').median(dim='time', skipna=True).chunk({'year': 1, 'x': -1, 'y': -1}).compute()\n"
   ]
  },
  {
   "cell_type": "code",
   "execution_count": null,
   "id": "7376c48b-cca2-400c-948f-24fbd371c687",
   "metadata": {},
   "outputs": [],
   "source": [
    "## Calculate changes in relation to 2017\n",
    "diff_18 = mpspy[1,:,:] - mpspy[0,:,:]\n",
    "diff_19 = mpspy[2,:,:] - mpspy[0,:,:]\n",
    "diff_1819 = ( ( mpspy[2,:,:] + mpspy[1,:,:] ) / 2 ) - mpspy[0,:,:]"
   ]
  },
  {
   "cell_type": "markdown",
   "id": "69af0452-0f4f-4f9a-bafb-cd1bea3daceb",
   "metadata": {},
   "source": [
    "---"
   ]
  },
  {
   "cell_type": "code",
   "execution_count": null,
   "id": "69e312da-f589-4691-9455-183da5633db2",
   "metadata": {},
   "outputs": [],
   "source": [
    "## Median of 2017 summer period\n",
    "mpspy[0,:,:].hvplot(height=500, width=900, cmap='viridis', xformatter=\"%.0f\", yformatter=\"%.0f\")"
   ]
  },
  {
   "cell_type": "code",
   "execution_count": null,
   "id": "9483d5b5-50fc-4bc9-8a32-57005132d95b",
   "metadata": {},
   "outputs": [],
   "source": [
    "## Median of 2018 summer period\n",
    "mpspy[1,:,:].hvplot(height=500, width=900, cmap=\"viridis\", xformatter=\"%.0f\", yformatter=\"%.0f\")"
   ]
  },
  {
   "cell_type": "code",
   "execution_count": null,
   "id": "1b2a1477-b62d-4efd-b4a3-651f51540a9e",
   "metadata": {},
   "outputs": [],
   "source": [
    "## Median of 2019 summer period\n",
    "mpspy[2,:,:].hvplot(height=500, width=900, cmap=\"viridis\", xformatter=\"%.0f\", yformatter=\"%.0f\")"
   ]
  },
  {
   "cell_type": "code",
   "execution_count": null,
   "id": "fbe6c87d-42d2-44c2-bad8-08bd73b8229a",
   "metadata": {},
   "outputs": [],
   "source": [
    "## Difference 2018 to 2017\n",
    "diff_18.hvplot(height=500, width=900, cmap=\"RdBu\", xformatter=\"%.0f\", yformatter=\"%.0f\")"
   ]
  },
  {
   "cell_type": "code",
   "execution_count": null,
   "id": "35d15eae-ccf9-451d-b32f-288020b03410",
   "metadata": {},
   "outputs": [],
   "source": [
    "## Difference 2019 to 2017\n",
    "diff_19.hvplot(height=500, width=900, cmap=\"RdBu\", xformatter=\"%.0f\", yformatter=\"%.0f\")"
   ]
  },
  {
   "cell_type": "code",
   "execution_count": null,
   "id": "2f953ade-209e-4b3b-8cb1-84521745b10f",
   "metadata": {},
   "outputs": [],
   "source": [
    "## Difference 2018/2019 to 2017\n",
    "diff_1819.hvplot(height=500, width=900, cmap=\"RdBu\", xformatter=\"%.0f\", yformatter=\"%.0f\")"
   ]
  },
  {
   "cell_type": "code",
   "execution_count": null,
   "id": "3c15afe9-e3b0-4780-ac88-81d0364ced54",
   "metadata": {},
   "outputs": [],
   "source": [
    "## Forest patch with stable/slight decrease of median NDVI (ca. -0.015)\n",
    "px_good = ind.sel(x=-586725, y=-437065, method='nearest').compute()\n",
    "\n",
    "## Forest patch with decrease of median NDVI (ca. -0.435)\n",
    "px_bad = ind.sel(x=-586565, y=-436605, method='nearest').compute()"
   ]
  },
  {
   "cell_type": "code",
   "execution_count": null,
   "id": "b3774f27-9e0e-4dd3-936f-588c8c7c045e",
   "metadata": {},
   "outputs": [],
   "source": [
    "px_good.hvplot.scatter()"
   ]
  },
  {
   "cell_type": "code",
   "execution_count": null,
   "id": "af6aff7c-7b67-420c-a49f-92e3090949a7",
   "metadata": {},
   "outputs": [],
   "source": [
    "px_bad.hvplot.scatter()"
   ]
  },
  {
   "cell_type": "code",
   "execution_count": null,
   "id": "5073c1b1-5abb-4de7-b59c-4b5e990a90ff",
   "metadata": {},
   "outputs": [],
   "source": [
    "## Save arrays as GeoTIFF\n",
    "mpspy[0,:,:].rio.to_raster(f\"./output/roda_optical/{index}_median_17.tif\", dtype=\"float32\")\n",
    "mpspy[1,:,:].rio.to_raster(f\"./output/roda_optical/{index}_median_18.tif\", dtype=\"float32\")\n",
    "mpspy[2,:,:].rio.to_raster(f\"./output/roda_optical/{index}_median_19.tif\", dtype=\"float32\")\n",
    "diff_18.rio.to_raster(f\"./output/roda_optical/{index}_diff_18.tif\", dtype=\"float32\")\n",
    "diff_19.rio.to_raster(f\"./output/roda_optical/{index}_diff_19.tif\", dtype=\"float32\")\n",
    "diff_1819.rio.to_raster(f\"./output/roda_optical/{index}_diff_1819.tif\", dtype=\"float32\")"
   ]
  },
  {
   "cell_type": "markdown",
   "id": "5240ff84-08d1-43ee-9003-d24e998dcd07",
   "metadata": {},
   "source": [
    "---"
   ]
  },
  {
   "cell_type": "markdown",
   "id": "21fd6679-e4c1-463a-b615-c52571d1030f",
   "metadata": {},
   "source": [
    "## Sentinel-1"
   ]
  },
  {
   "cell_type": "code",
   "execution_count": null,
   "id": "a644d4b7-9eea-49d7-9ac8-d1037582dc35",
   "metadata": {},
   "outputs": [],
   "source": [
    "bandindices.sar(ds_s1_asc, index=[\"VVVH\", \"VHVV\"], inplace=True, drop=False)\n",
    "bandindices.sar(ds_s1_desc, index=[\"VVVH\", \"VHVV\"], inplace=True, drop=False)\n",
    "\n",
    "# This semicolon is just suppressing the cell output :)\n",
    ";"
   ]
  },
  {
   "cell_type": "code",
   "execution_count": null,
   "id": "4d06096c-5fd7-4f6f-bc91-ae59f8f51876",
   "metadata": {},
   "outputs": [],
   "source": [
    "## Filter by nodata as some dates might contain rasters with only no data values & Remove outliers by limiting the value range to 95th percentile\n",
    "nodata = ds_s1_asc.VH.attrs['nodata']\n",
    "vh_asc    = ds_s1_asc.VH.where(    ((ds_s1_asc.VH != nodata)    & (ds_s1_asc.VH >= ds_s1_asc.VH.quantile(0.05))       & (ds_s1_asc.VH <= ds_s1_asc.VH.quantile(0.95)))       )\n",
    "vh_desc   = ds_s1_desc.VH.where(   ((ds_s1_desc.VH != nodata)   & (ds_s1_desc.VH >= ds_s1_desc.VH.quantile(0.05))     & (ds_s1_desc.VH <= ds_s1_desc.VH.quantile(0.95)))     )\n",
    "vvvh_asc  = ds_s1_asc.VVVH.where(  ((ds_s1_asc.VVVH != nodata)  & (ds_s1_asc.VVVH >= ds_s1_asc.VVVH.quantile(0.05))   & (ds_s1_asc.VVVH <= ds_s1_asc.VVVH.quantile(0.95)))   )\n",
    "vvvh_desc = ds_s1_desc.VVVH.where( ((ds_s1_desc.VVVH != nodata) & (ds_s1_desc.VVVH >= ds_s1_desc.VVVH.quantile(0.05)) & (ds_s1_desc.VVVH <= ds_s1_desc.VVVH.quantile(0.95))) )"
   ]
  },
  {
   "cell_type": "code",
   "execution_count": null,
   "id": "3f4c03f8-8616-4336-9eba-d042ee87189f",
   "metadata": {},
   "outputs": [],
   "source": [
    "## Calculate seasonal median aggregates (mpspy = median per season per year) and compute into memory for faster plotting\n",
    "mpspy_vh_asc  = vh_asc.where(vh_asc['time.season'] == 'JJA').groupby('time.year').median(dim='time', skipna=True).chunk({'year': 1, 'x': -1, 'y': -1}).compute()\n",
    "mpspy_vh_desc  = vh_desc.where(vh_desc['time.season'] == 'JJA').groupby('time.year').median(dim='time', skipna=True).chunk({'year': 1, 'x': -1, 'y': -1}).compute()\n",
    "mpspy_vvvh_asc  = vvvh_asc.where(vh_asc['time.season'] == 'JJA').groupby('time.year').median(dim='time', skipna=True).chunk({'year': 1, 'x': -1, 'y': -1}).compute()\n",
    "mpspy_vvvh_desc  = vvvh_desc.where(vvvh_desc['time.season'] == 'JJA').groupby('time.year').median(dim='time', skipna=True).chunk({'year': 1, 'x': -1, 'y': -1}).compute()"
   ]
  },
  {
   "cell_type": "code",
   "execution_count": null,
   "id": "10e4ff3b-846c-4512-a526-4ffe31cd0b5e",
   "metadata": {},
   "outputs": [],
   "source": [
    "diff_1819_vh_asc = ( ( mpspy_vh_asc[2,:,:] + mpspy_vh_asc[1,:,:] ) / 2 ) - mpspy_vh_asc[0,:,:]\n",
    "diff_1819_vh_desc = ( ( mpspy_vh_desc[2,:,:] + mpspy_vh_desc[1,:,:] ) / 2 ) - mpspy_vh_desc[0,:,:]\n",
    "\n",
    "diff_1819_vvvh_asc = ( ( mpspy_vvvh_asc[2,:,:] + mpspy_vvvh_asc[1,:,:] ) / 2 ) - mpspy_vvvh_asc[0,:,:]\n",
    "diff_1819_vvvh_desc = ( ( mpspy_vvvh_desc[2,:,:] + mpspy_vvvh_desc[1,:,:] ) / 2 ) - mpspy_vvvh_desc[0,:,:]"
   ]
  },
  {
   "cell_type": "markdown",
   "id": "4df93283-a30d-46a6-bba6-86b08ccbfc3c",
   "metadata": {},
   "source": [
    "---"
   ]
  },
  {
   "cell_type": "code",
   "execution_count": null,
   "id": "a0471edb-f315-4fd5-b422-564ad8ad3704",
   "metadata": {},
   "outputs": [],
   "source": [
    "mpspy_vh_asc[0,:,:].hvplot(height=500, width=900, cmap='viridis', xformatter=\"%.0f\", yformatter=\"%.0f\")"
   ]
  },
  {
   "cell_type": "code",
   "execution_count": null,
   "id": "0f491083-af6e-4923-92ff-abf849fad0dc",
   "metadata": {},
   "outputs": [],
   "source": [
    "mpspy_vh_asc[1,:,:].hvplot(height=500, width=900, cmap='viridis', xformatter=\"%.0f\", yformatter=\"%.0f\")"
   ]
  },
  {
   "cell_type": "code",
   "execution_count": null,
   "id": "0aa21ed2-df31-4a19-8fd3-e5a377b5d440",
   "metadata": {},
   "outputs": [],
   "source": [
    "mpspy_vh_asc[2,:,:].hvplot(height=500, width=900, cmap='viridis', xformatter=\"%.0f\", yformatter=\"%.0f\")"
   ]
  },
  {
   "cell_type": "code",
   "execution_count": null,
   "id": "6a672afe-17bd-47f2-9760-05c51e2438e0",
   "metadata": {},
   "outputs": [],
   "source": [
    "diff_1819_vh_asc.hvplot(height=500, width=900, cmap=\"RdBu\", xformatter=\"%.0f\", yformatter=\"%.0f\")"
   ]
  },
  {
   "cell_type": "code",
   "execution_count": null,
   "id": "2bd4fd21-1812-4a86-8e61-55ee2abe9478",
   "metadata": {},
   "outputs": [],
   "source": [
    "diff_1819_vh_desc.hvplot(height=500, width=900, cmap=\"RdBu\", xformatter=\"%.0f\", yformatter=\"%.0f\")"
   ]
  },
  {
   "cell_type": "code",
   "execution_count": null,
   "id": "a893284a-df0f-415e-81b0-cd79765ecaf0",
   "metadata": {},
   "outputs": [],
   "source": [
    "px_good_vh_asc = vh_asc.sel(x=-586725, y=-437065, method='nearest').compute()\n",
    "px_good_vh_desc = vh_desc.sel(x=-586725, y=-437065, method='nearest').compute()\n",
    "px_bad_vh_asc = vh_asc.sel(x=-586565, y=-436605, method='nearest').compute()\n",
    "px_bad_vh_desc = vh_desc.sel(x=-586565, y=-436605, method='nearest').compute()"
   ]
  },
  {
   "cell_type": "code",
   "execution_count": null,
   "id": "11ead94f-0873-4bd6-9def-e4d289f1f8cd",
   "metadata": {},
   "outputs": [],
   "source": [
    "px_good_vh_asc.hvplot.scatter()"
   ]
  },
  {
   "cell_type": "code",
   "execution_count": null,
   "id": "40073566-c4dd-4737-b898-bf752b112750",
   "metadata": {},
   "outputs": [],
   "source": [
    "px_good_vh_desc.hvplot.scatter()"
   ]
  },
  {
   "cell_type": "code",
   "execution_count": null,
   "id": "3b2531e3-62b7-4ffe-97f1-2edb65788f88",
   "metadata": {},
   "outputs": [],
   "source": [
    "px_bad_vh_asc.hvplot.scatter()"
   ]
  },
  {
   "cell_type": "code",
   "execution_count": null,
   "id": "3e607867-71ad-477e-8f90-1e098e1a9656",
   "metadata": {},
   "outputs": [],
   "source": [
    "px_bad_vh_desc.hvplot.scatter()"
   ]
  },
  {
   "cell_type": "code",
   "execution_count": null,
   "id": "9f6b4da3-f9c6-47ce-a852-51d1ba06c9de",
   "metadata": {},
   "outputs": [],
   "source": []
  },
  {
   "cell_type": "code",
   "execution_count": null,
   "id": "fa30c66d-63a6-45f9-b579-e5bd1e284c8a",
   "metadata": {},
   "outputs": [],
   "source": [
    "## Save arrays as GeoTIFF\n",
    "mpspy_vh_asc[0,:,:].rio.to_raster(f\"./output/roda_SAR/vh_asc_median_17.tif\", dtype=\"float32\")\n",
    "mpspy_vh_asc[1,:,:].rio.to_raster(f\"./output/roda_SAR/vh_asc_median_18.tif\", dtype=\"float32\")\n",
    "mpspy_vh_asc[2,:,:].rio.to_raster(f\"./output/roda_SAR/vh_asc_median_19.tif\", dtype=\"float32\")\n",
    "diff_1819_vh_asc.rio.to_raster(f\"./output/roda_SAR/vh_asc_diff_1819.tif\", dtype=\"float32\")\n",
    "diff_1819_vh_desc.rio.to_raster(f\"./output/roda_SAR/vh_desc_diff_1819.tif\", dtype=\"float32\")"
   ]
  },
  {
   "cell_type": "code",
   "execution_count": null,
   "id": "76111ee1-c0d7-4dcb-b06b-28759944b396",
   "metadata": {},
   "outputs": [],
   "source": []
  },
  {
   "cell_type": "markdown",
   "id": "22deddc4-3e12-4599-bf92-6cead86a787c",
   "metadata": {},
   "source": [
    "## Combined time-series plot"
   ]
  },
  {
   "cell_type": "code",
   "execution_count": null,
   "id": "4e6c9d13-39d7-405f-8528-f369c51d2780",
   "metadata": {},
   "outputs": [],
   "source": [
    "import matplotlib.pyplot as plt"
   ]
  },
  {
   "cell_type": "code",
   "execution_count": null,
   "id": "5c95ef41-78f9-46ab-bc35-7b226924407b",
   "metadata": {},
   "outputs": [],
   "source": [
    "ndvi = px_good.where( ((px_good['time.season'] == 'JJA') & (px_good >= 0) & (px_good <= 1)) )"
   ]
  },
  {
   "cell_type": "code",
   "execution_count": null,
   "id": "9ed00227-c8a4-46aa-977a-e6782cc62d8a",
   "metadata": {},
   "outputs": [],
   "source": [
    "vh_asc_avg = px_good_vh_asc.resample(time=\"1W\", skipna=True).mean().rename(\"VH_asc\")\n",
    "vh_desc_avg = px_good_vh_desc.resample(time=\"1W\", skipna=True).mean().rename(\"VH_desc\")"
   ]
  },
  {
   "cell_type": "code",
   "execution_count": null,
   "id": "fc88e084-2165-415f-b245-8f72b970271e",
   "metadata": {},
   "outputs": [],
   "source": [
    "merged = xr.merge([ndvi, vh_asc_avg, vh_desc_avg], compat='override') "
   ]
  },
  {
   "cell_type": "code",
   "execution_count": null,
   "id": "20dd8dcf-ca6e-4b8c-8fb4-5be0256709b0",
   "metadata": {},
   "outputs": [],
   "source": [
    "x = merged.time\n",
    "y1 = merged.NDVI\n",
    "y2 = merged.VH_asc.interpolate_na(dim=\"time\", method=\"linear\")\n",
    "y3 = merged.VH_desc.interpolate_na(dim=\"time\", method=\"linear\")\n",
    "\n",
    "fig, ax1 = plt.subplots()\n",
    "ax2 = ax1.twinx()\n",
    "ax3 = ax2.twinx()\n",
    "\n",
    "ax1.plot(x, y1, 'o', c='green')\n",
    "ax2.plot(x, y2, '-', c='black')\n",
    "ax3.plot(x, y3, '-', c='blue')\n",
    "\n",
    "ax1.set_xlabel('time')\n",
    "ax1.set_ylabel('NDVI')\n",
    "ax2.set_ylabel('VH_asc')\n",
    "ax3.set_ylabel('VH_desc')\n",
    "\n",
    "ax1.set_ylim(0,1)\n",
    "ax2.set_ylim(-20,-10)\n",
    "ax3.set_ylim(-20,-10)\n"
   ]
  },
  {
   "cell_type": "code",
   "execution_count": null,
   "id": "58e57d50-fa06-4884-965c-65c61be7e4a7",
   "metadata": {},
   "outputs": [],
   "source": [
    "px_good_spy.hvplot.scatter(ylim=(0,1))"
   ]
  },
  {
   "cell_type": "code",
   "execution_count": null,
   "id": "9f839207-03c4-49b9-9b70-e64363d567a8",
   "metadata": {},
   "outputs": [],
   "source": [
    "px_good_vh_asc.hvplot.scatter(ylim=(-20,-10))"
   ]
  },
  {
   "cell_type": "markdown",
   "id": "cdc90aa4-f7e1-4c0d-8534-479edc74b6f9",
   "metadata": {},
   "source": [
    "---"
   ]
  },
  {
   "cell_type": "code",
   "execution_count": null,
   "id": "8766da3d-7e19-4c16-86fe-3dd433f3e785",
   "metadata": {},
   "outputs": [],
   "source": [
    "px_bad_spy.hvplot.scatter(ylim=(0,1))"
   ]
  },
  {
   "cell_type": "code",
   "execution_count": null,
   "id": "2827707e-7f95-4489-a5c7-3f399b634e21",
   "metadata": {},
   "outputs": [],
   "source": []
  }
 ],
 "metadata": {
  "kernelspec": {
   "display_name": "Python 3",
   "language": "python",
   "name": "python3"
  },
  "language_info": {
   "codemirror_mode": {
    "name": "ipython",
    "version": 3
   },
   "file_extension": ".py",
   "mimetype": "text/x-python",
   "name": "python",
   "nbconvert_exporter": "python",
   "pygments_lexer": "ipython3",
   "version": "3.7.10"
  }
 },
 "nbformat": 4,
 "nbformat_minor": 5
}
