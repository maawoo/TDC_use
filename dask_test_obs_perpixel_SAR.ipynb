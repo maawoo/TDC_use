{
 "cells": [
  {
   "cell_type": "code",
   "execution_count": null,
   "id": "finished-standard",
   "metadata": {
    "tags": []
   },
   "outputs": [],
   "source": [
    "import datacube\n",
    "import xarray as xr\n",
    "import dask\n",
    "from dask.distributed import performance_report\n",
    "from dask.distributed import Client\n",
    "\n",
    "from datacube.utils import masking\n",
    "## https://github.com/opendatacube/datacube-core/blob/develop/datacube/utils/masking.py\n",
    "\n",
    "## Connect to ODC\n",
    "dc = datacube.Datacube()\n",
    "\n",
    "## Start local Dask cluster\n",
    "## https://docs.dask.org/en/latest/setup/single-distributed.html#localcluster\n",
    "n_workers = 1\n",
    "n_threads = 24\n",
    "client = Client(processes=False, \n",
    "                n_workers=n_workers, \n",
    "                threads_per_worker=n_threads)"
   ]
  },
  {
   "cell_type": "code",
   "execution_count": null,
   "id": "5c1d166c-bc30-41fd-ae5f-ec099e236c2f",
   "metadata": {},
   "outputs": [],
   "source": [
    "from utils.geometry import geojson_x_y\n",
    "aoi = geojson_x_y(\"./misc/subset.geojson\")\n",
    "x = aoi[0]\n",
    "y = aoi[1]"
   ]
  },
  {
   "cell_type": "code",
   "execution_count": null,
   "id": "corporate-antibody",
   "metadata": {},
   "outputs": [],
   "source": [
    "chunk_size = 1000\n",
    "\n",
    "ds = dc.load(product=f\"s1_ARD_asc\",\n",
    "             x=x,\n",
    "             y=y,\n",
    "             dask_chunks={'time':-1, 'y':chunk_size, 'x':chunk_size})\n",
    "\n",
    "ds.VH"
   ]
  },
  {
   "cell_type": "code",
   "execution_count": null,
   "id": "0bb57c79-0117-4b0c-8e50-72befb058aa5",
   "metadata": {},
   "outputs": [],
   "source": [
    "nodata = ds.VH.attrs['nodata']\n",
    "count = xr.where(ds.VH > nodata, True, False).sum(dim=\"time\")\n",
    "count"
   ]
  },
  {
   "cell_type": "code",
   "execution_count": null,
   "id": "9a8bc722-cacb-4ce9-a157-073b5710d6b5",
   "metadata": {},
   "outputs": [],
   "source": [
    "%%time\n",
    "with performance_report(filename=f\"./reports/dask_test_obs_perpixel_SAR_asc__{n_workers}-{n_threads}_{chunk_size}-{chunk_size}.html\"):\n",
    "    count = count.compute()"
   ]
  }
 ],
 "metadata": {
  "kernelspec": {
   "display_name": "Python 3",
   "language": "python",
   "name": "python3"
  },
  "language_info": {
   "codemirror_mode": {
    "name": "ipython",
    "version": 3
   },
   "file_extension": ".py",
   "mimetype": "text/x-python",
   "name": "python",
   "nbconvert_exporter": "python",
   "pygments_lexer": "ipython3",
   "version": "3.7.10"
  }
 },
 "nbformat": 4,
 "nbformat_minor": 5
}
