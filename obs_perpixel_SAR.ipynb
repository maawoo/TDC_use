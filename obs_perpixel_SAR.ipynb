{
 "cells": [
  {
   "cell_type": "code",
   "execution_count": null,
   "id": "finished-standard",
   "metadata": {
    "tags": []
   },
   "outputs": [],
   "source": [
    "import datacube\n",
    "import xarray as xr\n",
    "import rioxarray\n",
    "import dask\n",
    "from dask.distributed import performance_report\n",
    "from dask.distributed import Client\n",
    "\n",
    "from datacube.utils import masking\n",
    "## https://github.com/opendatacube/datacube-core/blob/develop/datacube/utils/masking.py\n",
    "\n",
    "## Connect to ODC\n",
    "dc = datacube.Datacube()\n",
    "\n",
    "## Start local Dask cluster\n",
    "## https://docs.dask.org/en/latest/setup/single-distributed.html#localcluster\n",
    "n_workers = 1\n",
    "n_threads = 24\n",
    "client = Client(processes=False, \n",
    "                n_workers=n_workers, \n",
    "                threads_per_worker=n_threads)"
   ]
  },
  {
   "cell_type": "code",
   "execution_count": null,
   "id": "corporate-antibody",
   "metadata": {},
   "outputs": [],
   "source": [
    "## Define some parameters as variables (so filenames don't need to be changed manually) \n",
    "orbit = \"asc\"\n",
    "chunk_size = 1500\n",
    "\n",
    "ds = dc.load(product=f\"s1_ARD_{orbit}\",\n",
    "             x=x,\n",
    "             y=y,\n",
    "             dask_chunks={'time':-1, 'y':chunk_size, 'x':chunk_size})\n",
    "\n",
    "ds.VH"
   ]
  },
  {
   "cell_type": "code",
   "execution_count": null,
   "id": "0bb57c79-0117-4b0c-8e50-72befb058aa5",
   "metadata": {},
   "outputs": [],
   "source": [
    "nodata = ds.VH.attrs['nodata']\n",
    "count = xr.where(ds.VH > nodata, True, False).sum(dim=\"time\")\n",
    "count"
   ]
  },
  {
   "cell_type": "code",
   "execution_count": null,
   "id": "9a8bc722-cacb-4ce9-a157-073b5710d6b5",
   "metadata": {},
   "outputs": [],
   "source": [
    "%%time\n",
    "with performance_report(filename=f\"./reports/dask_test_obs_perpixel_SAR_{orbit}__{n_workers}-{n_threads}_{chunk_size}-{chunk_size}.html\"):\n",
    "    count = count.compute()"
   ]
  },
  {
   "cell_type": "code",
   "execution_count": null,
   "id": "8c6dad1e-10cb-4166-adb3-a80c62a3317c",
   "metadata": {},
   "outputs": [],
   "source": [
    "count.rio.to_raster(f\"./output/obs_perpixel_SAR_{orbit}__{n_workers}-{n_threads}_{chunk_size}-{chunk_size}_test.tif\", dtype=\"float32\")"
   ]
  }
 ],
 "metadata": {
  "kernelspec": {
   "display_name": "Python 3",
   "language": "python",
   "name": "python3"
  },
  "language_info": {
   "codemirror_mode": {
    "name": "ipython",
    "version": 3
   },
   "file_extension": ".py",
   "mimetype": "text/x-python",
   "name": "python",
   "nbconvert_exporter": "python",
   "pygments_lexer": "ipython3",
   "version": "3.7.10"
  }
 },
 "nbformat": 4,
 "nbformat_minor": 5
}
