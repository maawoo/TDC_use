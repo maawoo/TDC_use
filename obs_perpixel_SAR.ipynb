{
 "cells": [
  {
   "cell_type": "code",
   "execution_count": null,
   "id": "finished-standard",
   "metadata": {
    "tags": []
   },
   "outputs": [],
   "source": [
    "import datacube\n",
    "import xarray as xr\n",
    "import rioxarray\n",
    "import dask\n",
    "from dask.distributed import performance_report\n",
    "from dask.distributed import Client\n",
    "\n",
    "#%matplotlib inline\n",
    "#import hvplot.xarray"
   ]
  },
  {
   "cell_type": "code",
   "execution_count": null,
   "id": "27296930-1d28-4ed9-879d-6a45949e43e2",
   "metadata": {},
   "outputs": [],
   "source": [
    "## Connect to ODC\n",
    "dc = datacube.Datacube()\n",
    "\n",
    "## Start local Dask cluster\n",
    "## https://docs.dask.org/en/latest/setup/single-distributed.html#localcluster\n",
    "n_workers = 1\n",
    "n_threads = 24\n",
    "client = Client(processes=False, \n",
    "                n_workers=n_workers, \n",
    "                threads_per_worker=n_threads)\n",
    "\n",
    "## Define some other variables \n",
    "## (Only done here to use them in the output filenames)\n",
    "orbit = \"desc\"\n",
    "chunk_x = 1500\n",
    "chunk_y = 1500"
   ]
  },
  {
   "cell_type": "code",
   "execution_count": null,
   "id": "corporate-antibody",
   "metadata": {},
   "outputs": [],
   "source": [
    "\"\"\"\n",
    "Subset for testing: \n",
    "x=(11.5, 11.8)\n",
    "y=(50.6, 51)\n",
    "\"\"\"\n",
    "\n",
    "ds = dc.load(product=f\"s1_ARD_{orbit}\",\n",
    "             dask_chunks={'time':-1, 'y':chunk_y, 'x':chunk_x})\n",
    "\n",
    "vh = ds.VH\n",
    "vh"
   ]
  },
  {
   "cell_type": "code",
   "execution_count": null,
   "id": "0bb57c79-0117-4b0c-8e50-72befb058aa5",
   "metadata": {},
   "outputs": [],
   "source": [
    "vh_count = xr.where(vh > -99, True, False).sum(dim=\"time\")\n",
    "vh_count"
   ]
  },
  {
   "cell_type": "code",
   "execution_count": null,
   "id": "9a8bc722-cacb-4ce9-a157-073b5710d6b5",
   "metadata": {},
   "outputs": [],
   "source": [
    "%%time\n",
    "with performance_report(filename=f\"./reports/obs_perpixel_SAR_{orbit}__{n_workers}-{n_threads}_{chunk_x}-{chunk_y}.html\"):\n",
    "    vh_count = vh_count.compute()"
   ]
  },
  {
   "cell_type": "code",
   "execution_count": null,
   "id": "6d7284b8-749d-4ed6-a56e-b6a1a0bf1314",
   "metadata": {},
   "outputs": [],
   "source": [
    "vh_count"
   ]
  },
  {
   "cell_type": "code",
   "execution_count": null,
   "id": "8c6dad1e-10cb-4166-adb3-a80c62a3317c",
   "metadata": {},
   "outputs": [],
   "source": [
    "vh_count.rio.to_raster(f\"./output/obs_perpixel_SAR_{orbit}__{n_workers}-{n_threads}_{chunk_x}-{chunk_y}.tif\", dtype=\"float32\")"
   ]
  }
 ],
 "metadata": {
  "kernelspec": {
   "display_name": "Python 3",
   "language": "python",
   "name": "python3"
  },
  "language_info": {
   "codemirror_mode": {
    "name": "ipython",
    "version": 3
   },
   "file_extension": ".py",
   "mimetype": "text/x-python",
   "name": "python",
   "nbconvert_exporter": "python",
   "pygments_lexer": "ipython3",
   "version": "3.7.10"
  }
 },
 "nbformat": 4,
 "nbformat_minor": 5
}
