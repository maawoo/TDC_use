{
 "cells": [
  {
   "cell_type": "markdown",
   "id": "06e68eef-7550-427f-8311-0457a7b3ac64",
   "metadata": {},
   "source": []
  },
  {
   "cell_type": "code",
   "execution_count": null,
   "id": "5f9ebb04-12ac-4f97-818e-f36381d2ba21",
   "metadata": {},
   "outputs": [],
   "source": [
    "## Time-series from DataArray\n",
    "#https://xarray.pydata.org/en/stable/generated/xarray.Dataset.sel.html#xarray.Dataset.sel\n",
    "\n",
    "px = vh.sel(x=-583840, y=-410580, method='nearest').compute()"
   ]
  },
  {
   "cell_type": "code",
   "execution_count": null,
   "id": "de30d3a6-898e-4c74-9993-edb2dcba1a9a",
   "metadata": {},
   "outputs": [],
   "source": [
    "px.where(px > -99).hvplot.scatter()"
   ]
  },
  {
   "cell_type": "markdown",
   "id": "9548725f-0a6c-4d6e-be83-141455fd06b0",
   "metadata": {},
   "source": [
    "---"
   ]
  },
  {
   "cell_type": "code",
   "execution_count": null,
   "id": "050a8dd3-2b3f-4f36-8775-5419ad23d30b",
   "metadata": {},
   "outputs": [],
   "source": [
    "hvplot.help(\"image\")"
   ]
  },
  {
   "cell_type": "code",
   "execution_count": null,
   "id": "cd87066f-fdc6-45bd-a58c-afa51eb20654",
   "metadata": {},
   "outputs": [],
   "source": [
    "vh_count.hvplot(height=500, width=600, cmap=\"viridis\")"
   ]
  }
 ],
 "metadata": {
  "kernelspec": {
   "display_name": "Python 3",
   "language": "python",
   "name": "python3"
  },
  "language_info": {
   "codemirror_mode": {
    "name": "ipython",
    "version": 3
   },
   "file_extension": ".py",
   "mimetype": "text/x-python",
   "name": "python",
   "nbconvert_exporter": "python",
   "pygments_lexer": "ipython3",
   "version": "3.7.10"
  }
 },
 "nbformat": 4,
 "nbformat_minor": 5
}
