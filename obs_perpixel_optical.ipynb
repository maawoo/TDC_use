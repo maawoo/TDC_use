{
 "cells": [
  {
   "cell_type": "code",
   "execution_count": null,
   "id": "5d5b4b87-f0e3-4f34-a597-539dab54b3d4",
   "metadata": {},
   "outputs": [],
   "source": [
    "import datacube\n",
    "import xarray as xr\n",
    "import rioxarray\n",
    "import dask\n",
    "from dask.distributed import performance_report\n",
    "from dask.distributed import Client\n",
    "\n",
    "#%matplotlib inline\n",
    "#import hvplot.xarray"
   ]
  },
  {
   "cell_type": "code",
   "execution_count": null,
   "id": "7f7fc768-c3de-4ed6-9ffd-1ea99298acb9",
   "metadata": {},
   "outputs": [],
   "source": [
    "## Connect to ODC\n",
    "dc = datacube.Datacube()\n",
    "\n",
    "## Start local Dask cluster\n",
    "## https://docs.dask.org/en/latest/setup/single-distributed.html#localcluster\n",
    "n_workers = 1\n",
    "n_threads = 24\n",
    "client = Client(processes=False, \n",
    "                n_workers=n_workers, \n",
    "                threads_per_worker=n_threads)"
   ]
  },
  {
   "cell_type": "code",
   "execution_count": null,
   "id": "2256467f-a2a2-4a04-8a90-33cc60ecf496",
   "metadata": {},
   "outputs": [],
   "source": [
    "\"\"\"\n",
    "Subset for testing: \n",
    "x=(11.5, 11.8)\n",
    "y=(50.6, 51)\n",
    "\"\"\"\n",
    "\n",
    "## Define some other variables \n",
    "## (Only done here to use them in the output filenames)\n",
    "product = \"l8\" \n",
    "chunk_x = -1\n",
    "chunk_y = -1\n",
    "\n",
    "ds = dc.load(product=f\"{product}_ARD\",\n",
    "             x=(11.5, 11.8),\n",
    "             y=(50.6, 51),\n",
    "             dask_chunks={'time':-1, 'y':chunk_y, 'x':chunk_x})\n"
   ]
  },
  {
   "cell_type": "markdown",
   "id": "cd64d107-6be8-4c32-bc20-7c3bcde7db46",
   "metadata": {},
   "source": [
    "---"
   ]
  },
  {
   "cell_type": "code",
   "execution_count": null,
   "id": "80bfd86a-4d77-4493-8b23-cd2146de5f5d",
   "metadata": {},
   "outputs": [],
   "source": [
    "from datacube.utils import masking\n",
    "## https://github.com/opendatacube/datacube-core/blob/develop/datacube/utils/masking.py"
   ]
  },
  {
   "cell_type": "code",
   "execution_count": null,
   "id": "5e409141-17c0-4e6f-9839-cfdb1df34c33",
   "metadata": {},
   "outputs": [],
   "source": [
    "masking.describe_variable_flags(ds.pixel_qa)"
   ]
  },
  {
   "cell_type": "code",
   "execution_count": null,
   "id": "30e9baa2-86a0-4ef5-a370-016e1c60a73f",
   "metadata": {},
   "outputs": [],
   "source": []
  },
  {
   "cell_type": "code",
   "execution_count": null,
   "id": "ddd5f5ea-53f3-4fbb-83f0-0ab0dc147a8e",
   "metadata": {},
   "outputs": [],
   "source": []
  }
 ],
 "metadata": {
  "kernelspec": {
   "display_name": "Python 3",
   "language": "python",
   "name": "python3"
  },
  "language_info": {
   "codemirror_mode": {
    "name": "ipython",
    "version": 3
   },
   "file_extension": ".py",
   "mimetype": "text/x-python",
   "name": "python",
   "nbconvert_exporter": "python",
   "pygments_lexer": "ipython3",
   "version": "3.7.10"
  }
 },
 "nbformat": 4,
 "nbformat_minor": 5
}
