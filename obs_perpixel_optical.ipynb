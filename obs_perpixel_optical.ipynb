{
 "cells": [
  {
   "cell_type": "code",
   "execution_count": null,
   "id": "5d5b4b87-f0e3-4f34-a597-539dab54b3d4",
   "metadata": {},
   "outputs": [],
   "source": [
    "import datacube\n",
    "import xarray as xr\n",
    "import rioxarray\n",
    "import dask\n",
    "from dask.distributed import performance_report\n",
    "from dask.distributed import Client\n",
    "\n",
    "from datacube.utils import masking\n",
    "## https://github.com/opendatacube/datacube-core/blob/develop/datacube/utils/masking.py\n",
    "\n",
    "%matplotlib inline\n",
    "import hvplot.xarray\n",
    "\n",
    "## Connect to ODC\n",
    "dc = datacube.Datacube()\n",
    "\n",
    "## Start local Dask cluster\n",
    "## https://docs.dask.org/en/latest/setup/single-distributed.html#localcluster\n",
    "n_workers = 1\n",
    "n_threads = 24\n",
    "client = Client(processes=False, \n",
    "                n_workers=n_workers, \n",
    "                threads_per_worker=n_threads)"
   ]
  },
  {
   "cell_type": "code",
   "execution_count": null,
   "id": "2256467f-a2a2-4a04-8a90-33cc60ecf496",
   "metadata": {},
   "outputs": [],
   "source": [
    "\"\"\"\n",
    "Good subset for testing: \n",
    "x=(11.5, 11.8)\n",
    "y=(50.6, 51)\n",
    "\"\"\"\n",
    "\n",
    "## Define some parameters as variables (so filenames don't need to be changed manually) \n",
    "product = \"s2\"\n",
    "chunk_x = 3000\n",
    "chunk_y = 3001\n",
    "\n",
    "ds = dc.load(product=f\"{product}_ARD\",\n",
    "             measurements=[\"pixel_qa\"],\n",
    "             dask_chunks={'time':-1, 'y':chunk_y, 'x':chunk_x})\n",
    "\n",
    "ds.pixel_qa"
   ]
  },
  {
   "cell_type": "code",
   "execution_count": null,
   "id": "d07f9858-2587-4a64-9191-9b4f33d48edc",
   "metadata": {},
   "outputs": [],
   "source": [
    "## https://force-eo.readthedocs.io/en/latest/howto/qai.html#quality-bits-in-force\n",
    "# masking.describe_variable_flags(ds.pixel_qa)\n",
    "\n",
    "flags = {'valid_data': 'valid',\n",
    "        'cloud_state': 'clear',\n",
    "        'cloud_shadow_flag': False}\n",
    "\n",
    "count = masking.make_mask(ds.pixel_qa, **flags).sum(dim='time')\n",
    "count"
   ]
  },
  {
   "cell_type": "code",
   "execution_count": null,
   "id": "0e285b79-8c9d-4bcc-ab16-067d132387b9",
   "metadata": {},
   "outputs": [],
   "source": [
    "%%time\n",
    "with performance_report(filename=f\"./reports/obs_perpixel_{product}__{n_workers}-{n_threads}_{chunk_x}-{chunk_y}.html\"):\n",
    "    count = count.compute()"
   ]
  },
  {
   "cell_type": "code",
   "execution_count": null,
   "id": "fc900480-95aa-4811-9100-a40544e8e8b5",
   "metadata": {},
   "outputs": [],
   "source": [
    "count.rio.to_raster(f\"./output/obs_perpixel_{product}__{n_workers}-{n_threads}_{chunk_x}-{chunk_y}.tif\", dtype=\"float32\")"
   ]
  }
 ],
 "metadata": {
  "kernelspec": {
   "display_name": "Python 3",
   "language": "python",
   "name": "python3"
  },
  "language_info": {
   "codemirror_mode": {
    "name": "ipython",
    "version": 3
   },
   "file_extension": ".py",
   "mimetype": "text/x-python",
   "name": "python",
   "nbconvert_exporter": "python",
   "pygments_lexer": "ipython3",
   "version": "3.7.10"
  }
 },
 "nbformat": 4,
 "nbformat_minor": 5
}
